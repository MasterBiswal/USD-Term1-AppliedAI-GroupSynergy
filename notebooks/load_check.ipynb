{
 "cells": [
  {
   "cell_type": "code",
   "execution_count": null,
   "id": "5cc85563",
   "metadata": {},
   "outputs": [],
   "source": [
    "import os\n",
    "import sys\n",
    "\n",
    "# Add project root\n",
    "project_root = os.path.abspath(os.path.join(os.getcwd(), \"..\"))\n",
    "if project_root not in sys.path:\n",
    "    sys.path.append(project_root)\n",
    "\n",
    "from src.utils import load_raw_k9_data\n",
    "\n",
    "# Define absolute paths\n",
    "data_path = os.path.join(project_root, \"data\", \"raw\", \"K9.data\")\n",
    "tag_path = os.path.join(project_root, \"data\", \"raw\", \"K9.instance.tags\")\n",
    "\n",
    "print(\"Data path exists:\", os.path.exists(data_path))\n",
    "print(\"Tag path exists:\", os.path.exists(tag_path))\n",
    "\n",
    "# Call the function with full paths\n",
    "data, tags = load_raw_k9_data(data_path=data_path, tag_path=tag_path)\n",
    "data.head()\n"
   ]
  },
  {
   "cell_type": "code",
   "execution_count": null,
   "id": "1903c85c",
   "metadata": {},
   "outputs": [],
   "source": [
    "import os\n",
    "\n",
    "raw_data_dir = os.path.join(project_root, \"data\", \"raw\")\n",
    "print(\"Raw Data Folder Exists:\", os.path.exists(raw_data_dir))\n",
    "\n",
    "# List contents of the raw folder\n",
    "print(\"\\nFiles inside raw folder:\")\n",
    "print(os.listdir(raw_data_dir))\n"
   ]
  },
  {
   "cell_type": "code",
   "execution_count": null,
   "id": "aabe0812",
   "metadata": {},
   "outputs": [],
   "source": [
    "# How many unique tags?\n",
    "print(f\"Unique tags: {tags.nunique()}\")\n",
    "\n",
    "# Show top 10 most frequent tags\n",
    "print(\"\\n Top 10 tags:\")\n",
    "print(tags.value_counts().head(10))\n"
   ]
  },
  {
   "cell_type": "code",
   "execution_count": null,
   "id": "b53f82b1",
   "metadata": {},
   "outputs": [],
   "source": [
    "# How many mutations are there in each tag?\n",
    "tag_lengths = tags.apply(lambda x: len(x.strip('%').split('_')))\n",
    "print(\" Mutation counts per tag:\")\n",
    "print(tag_lengths.value_counts().sort_index())\n"
   ]
  },
  {
   "cell_type": "code",
   "execution_count": null,
   "id": "1b3ac045",
   "metadata": {},
   "outputs": [],
   "source": [
    "'''import src.data_cleaning\n",
    "\n",
    "# List all functions and attributes in src.data_cleaning\n",
    "print(dir(src.data_cleaning))'''\n"
   ]
  },
  {
   "cell_type": "code",
   "execution_count": null,
   "id": "a46cb5d9",
   "metadata": {},
   "outputs": [],
   "source": [
    "import os\n",
    "import pandas as pd\n",
    "\n",
    "project_root = os.path.abspath(os.path.join(os.getcwd(), \"..\"))\n",
    "tag_path = os.path.join(project_root, \"data\", \"raw\", \"K9.instance.tags\")\n",
    "output_path = os.path.join(project_root, \"data\", \"processed\", \"cleaned_tags.csv\")\n",
    "\n",
    "tags = []\n",
    "\n",
    "with open(tag_path, \"r\") as f:\n",
    "    for line in f:\n",
    "        tag = line.strip().strip('%')  # Remove newline and %\n",
    "        tags.append(tag)\n",
    "\n",
    "cleaned_tags_df = pd.DataFrame({'id': list(range(len(tags))), 'tags': tags})\n",
    "cleaned_tags_df.to_csv(output_path, index=False)\n",
    "\n",
    "print(f\"Cleaned tags saved to {output_path}\")\n",
    "print(\"Preview:\")\n",
    "print(cleaned_tags_df.head())\n"
   ]
  }
 ],
 "metadata": {
  "kernelspec": {
   "display_name": "venv",
   "language": "python",
   "name": "python3"
  },
  "language_info": {
   "codemirror_mode": {
    "name": "ipython",
    "version": 3
   },
   "file_extension": ".py",
   "mimetype": "text/x-python",
   "name": "python",
   "nbconvert_exporter": "python",
   "pygments_lexer": "ipython3",
   "version": "3.12.4"
  }
 },
 "nbformat": 4,
 "nbformat_minor": 5
}
